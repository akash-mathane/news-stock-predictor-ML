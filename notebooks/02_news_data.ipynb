{
 "cells": [
  {
   "cell_type": "markdown",
   "id": "9e0d9c82",
   "metadata": {},
   "source": [
    "# Load Reddit News Dataset\n",
    "Download the Reddit News & DJIA Combined dataset from Kaggle and place `RedditNews.csv` in the `data/news/` folder."
   ]
  },
  {
   "cell_type": "code",
   "execution_count": null,
   "id": "3aa043cb",
   "metadata": {},
   "outputs": [],
   "source": [
    "# Load the Reddit News dataset\n",
    "import pandas as pd\n",
    "\n",
    "df_news = pd.read_csv(\"data/news/RedditNews.csv\")\n",
    "print(df_news.head())"
   ]
  },
  {
   "cell_type": "markdown",
   "id": "1d72a72b",
   "metadata": {},
   "source": [
    "The dataset contains columns:\n",
    "- `Date`: Format YYYY-MM-DD\n",
    "- `Top1` to `Top25`: 25 news headlines from Reddit for each date"
   ]
  }
 ],
 "metadata": {
  "language_info": {
   "name": "python"
  }
 },
 "nbformat": 4,
 "nbformat_minor": 5
}
